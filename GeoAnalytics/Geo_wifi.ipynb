{
 "cells": [
  {
   "cell_type": "markdown",
   "metadata": {},
   "source": [
    "## IMPORT LIBRARIES"
   ]
  },
  {
   "cell_type": "code",
   "execution_count": 13,
   "metadata": {},
   "outputs": [],
   "source": [
    "#!pip install folium\n",
    "import sys\n",
    "sys.path.append(\"/anaconda3/lib/python3.6/site-packages\")\n",
    "sys.setrecursionlimit(10000)\n",
    "\n",
    "import requests\n",
    "from requests.auth import HTTPBasicAuth\n",
    "import pandas as pd\n",
    "from pandas.io.json import json_normalize\n",
    "import matplotlib.pyplot as plt\n",
    "#import geoplotlib as gp\n",
    "import numpy as np\n",
    "import folium\n",
    "import ast\n",
    "#import wigle\n",
    "from wigle import Wigle\n",
    "from pygle import network\n",
    "pd.set_option('display.max_colwidth', -1)"
   ]
  },
  {
   "cell_type": "markdown",
   "metadata": {},
   "source": [
    "## Geo Information"
   ]
  },
  {
   "cell_type": "code",
   "execution_count": 14,
   "metadata": {
    "scrolled": true
   },
   "outputs": [
    {
     "data": {
      "text/html": [
       "<div>\n",
       "<style scoped>\n",
       "    .dataframe tbody tr th:only-of-type {\n",
       "        vertical-align: middle;\n",
       "    }\n",
       "\n",
       "    .dataframe tbody tr th {\n",
       "        vertical-align: top;\n",
       "    }\n",
       "\n",
       "    .dataframe thead th {\n",
       "        text-align: right;\n",
       "    }\n",
       "</style>\n",
       "<table border=\"1\" class=\"dataframe\">\n",
       "  <thead>\n",
       "    <tr style=\"text-align: right;\">\n",
       "      <th></th>\n",
       "      <th>boundingbox</th>\n",
       "      <th>category</th>\n",
       "      <th>display_name</th>\n",
       "      <th>icon</th>\n",
       "      <th>importance</th>\n",
       "      <th>lat</th>\n",
       "      <th>licence</th>\n",
       "      <th>lon</th>\n",
       "      <th>osm_id</th>\n",
       "      <th>osm_type</th>\n",
       "      <th>place_id</th>\n",
       "      <th>place_rank</th>\n",
       "      <th>type</th>\n",
       "    </tr>\n",
       "  </thead>\n",
       "  <tbody>\n",
       "    <tr>\n",
       "      <th>7</th>\n",
       "      <td>[24.3963069915771, 31.0009689331055, -87.6349029541016, -79.9743041992188]</td>\n",
       "      <td>boundary</td>\n",
       "      <td>Florida, United States of America</td>\n",
       "      <td>http:\\/\\/nominatim.openstreetmap.org\\/images\\/mapicons\\/poi_boundary_administrative.p.20.png</td>\n",
       "      <td>0.880928</td>\n",
       "      <td>27.7567667</td>\n",
       "      <td>Data © OpenStreetMap contributors, ODbL 1.0. http:\\/\\/www.openstreetmap.org\\/copyright</td>\n",
       "      <td>-81.4639835</td>\n",
       "      <td>162050</td>\n",
       "      <td>relation</td>\n",
       "      <td>97976186</td>\n",
       "      <td>8</td>\n",
       "      <td>administrative</td>\n",
       "    </tr>\n",
       "  </tbody>\n",
       "</table>\n",
       "</div>"
      ],
      "text/plain": [
       "                                                                  boundingbox  \\\n",
       "7  [24.3963069915771, 31.0009689331055, -87.6349029541016, -79.9743041992188]   \n",
       "\n",
       "   category                       display_name  \\\n",
       "7  boundary  Florida, United States of America   \n",
       "\n",
       "                                                                                           icon  \\\n",
       "7  http:\\/\\/nominatim.openstreetmap.org\\/images\\/mapicons\\/poi_boundary_administrative.p.20.png   \n",
       "\n",
       "   importance         lat  \\\n",
       "7  0.880928    27.7567667   \n",
       "\n",
       "                                                                                  licence  \\\n",
       "7  Data © OpenStreetMap contributors, ODbL 1.0. http:\\/\\/www.openstreetmap.org\\/copyright   \n",
       "\n",
       "           lon  osm_id  osm_type  place_id place_rank            type  \n",
       "7  -81.4639835  162050  relation  97976186  8          administrative  "
      ]
     },
     "execution_count": 14,
     "metadata": {},
     "output_type": "execute_result"
    }
   ],
   "source": [
    "states = {\n",
    "        'AK': 'Alaska', 'AL': 'Alabama', 'AR': 'Arkansas', 'AS': 'American Samoa', 'AZ': 'Arizona',\n",
    "        'CA': 'California', 'CO': 'Colorado', 'CT': 'Connecticut', 'DC': 'District of Columbia',\n",
    "        'DE': 'Delaware', 'FL': 'Florida', 'GA': 'Georgia', 'GU': 'Guam',\n",
    "        'HI': 'Hawaii', 'IA': 'Iowa', 'ID': 'Idaho', 'IL': 'Illinois', 'IN': 'Indiana',\n",
    "        'KS': 'Kansas', 'KY': 'Kentucky', 'LA': 'Louisiana', 'MA': 'Massachusetts',\n",
    "        'MD': 'Maryland', 'ME': 'Maine', 'MI': 'Michigan', 'MN': 'Minnesota',\n",
    "        'MO': 'Missouri', 'MP': 'Northern Mariana Islands', 'MS': 'Mississippi', 'MT': 'Montana',\n",
    "        'NA': 'National', 'NC': 'North Carolina', 'ND': 'North Dakota', 'NE': 'Nebraska',\n",
    "        'NH': 'New Hampshire', 'NJ': 'New Jersey', 'NM': 'New Mexico',\n",
    "        'NV': 'Nevada', 'NY': 'New York', 'OH': 'Ohio', 'OK': 'Oklahoma', 'OR': 'Oregon', 'PA': 'Pennsylvania',\n",
    "        'PR': 'Puerto Rico', 'RI': 'Rhode Island', 'SC': 'South Carolina', 'SD': 'South Dakota',\n",
    "        'TN': 'Tennessee', 'TX': 'Texas', 'UT': 'Utah', 'VA': 'Virginia','VI': 'Virgin Islands',\n",
    "        'VT': 'Vermont', 'WA': 'Washington', 'WI': 'Wisconsin', 'WV': 'West Virginia', 'WY': 'Wyoming'\n",
    "}\n",
    "\n",
    "state_bounds = [\n",
    "    {\"place_id\":\"97994878\",\"licence\":\"Data \\u00a9 OpenStreetMap contributors, ODbL 1.0. http:\\/\\/www.openstreetmap.org\\/copyright\",\"osm_type\":\"relation\",\"osm_id\":\"161950\",\"boundingbox\":[\"30.1375217437744\",\"35.0080299377441\",\"-88.4731369018555\",\"-84.8882446289062\"],\"lat\":\"33.2588817\",\"lon\":\"-86.8295337\",\"display_name\":\"Alabama, United States of America\",\"place_rank\":\"8\",\"category\":\"boundary\",\"type\":\"administrative\",\"importance\":0.83507032450272,\"icon\":\"http:\\/\\/nominatim.openstreetmap.org\\/images\\/mapicons\\/poi_boundary_administrative.p.20.png\"},\n",
    "    {\"place_id\":\"97421560\",\"licence\":\"Data \\u00a9 OpenStreetMap contributors, ODbL 1.0. http:\\/\\/www.openstreetmap.org\\/copyright\",\"osm_type\":\"relation\",\"osm_id\":\"162018\",\"boundingbox\":[\"31.3321762084961\",\"37.0042610168457\",\"-114.818359375\",\"-109.045196533203\"],\"lat\":\"34.395342\",\"lon\":\"-111.7632755\",\"display_name\":\"Arizona, United States of America\",\"place_rank\":\"8\",\"category\":\"boundary\",\"type\":\"administrative\",\"importance\":0.83922181098242,\"icon\":\"http:\\/\\/nominatim.openstreetmap.org\\/images\\/mapicons\\/poi_boundary_administrative.p.20.png\"},\n",
    "    {\"place_id\":\"97976403\",\"licence\":\"Data \\u00a9 OpenStreetMap contributors, ODbL 1.0. http:\\/\\/www.openstreetmap.org\\/copyright\",\"osm_type\":\"relation\",\"osm_id\":\"161646\",\"boundingbox\":[\"33.0041046142578\",\"36.4996032714844\",\"-94.6178131103516\",\"-89.6422424316406\"],\"lat\":\"35.2048883\",\"lon\":\"-92.4479108\",\"display_name\":\"Arkansas, United States of America\",\"place_rank\":\"8\",\"category\":\"boundary\",\"type\":\"administrative\",\"importance\":0.80545729618767,\"icon\":\"http:\\/\\/nominatim.openstreetmap.org\\/images\\/mapicons\\/poi_boundary_administrative.p.20.png\"},\n",
    "    {\"place_id\":\"97717543\",\"licence\":\"Data \\u00a9 OpenStreetMap contributors, ODbL 1.0. http:\\/\\/www.openstreetmap.org\\/copyright\",\"osm_type\":\"relation\",\"osm_id\":\"165475\",\"boundingbox\":[\"32.5295219421387\",\"42.0095024108887\",\"-124.482009887695\",\"-114.13077545166\"],\"lat\":\"36.7014631\",\"lon\":\"-118.7559974\",\"display_name\":\"California, United States of America\",\"place_rank\":\"8\",\"category\":\"boundary\",\"type\":\"administrative\",\"importance\":0.954818372042,\"icon\":\"http:\\/\\/nominatim.openstreetmap.org\\/images\\/mapicons\\/poi_boundary_administrative.p.20.png\"},\n",
    "    {\"place_id\":\"97994966\",\"licence\":\"Data \\u00a9 OpenStreetMap contributors, ODbL 1.0. http:\\/\\/www.openstreetmap.org\\/copyright\",\"osm_type\":\"relation\",\"osm_id\":\"161961\",\"boundingbox\":[\"36.9924240112305\",\"41.0023612976074\",\"-109.060256958008\",\"-102.041580200195\"],\"lat\":\"38.7251776\",\"lon\":\"-105.6077167\",\"display_name\":\"Colorado, United States of America\",\"place_rank\":\"8\",\"category\":\"boundary\",\"type\":\"administrative\",\"importance\":0.82684400394572,\"icon\":\"http:\\/\\/nominatim.openstreetmap.org\\/images\\/mapicons\\/poi_boundary_administrative.p.20.png\"},\n",
    "    {\"place_id\":\"9182658271\",\"licence\":\"Data \\u00a9 OpenStreetMap contributors, ODbL 1.0. http:\\/\\/www.openstreetmap.org\\/copyright\",\"osm_type\":\"relation\",\"osm_id\":\"165794\",\"boundingbox\":[\"40.9667053222656\",\"42.0505905151367\",\"-73.7277755737305\",\"-71.7869873046875\"],\"lat\":\"41.493929\",\"lon\":\"-72.5982114\",\"display_name\":\"Connecticut, United States of America\",\"place_rank\":\"8\",\"category\":\"boundary\",\"type\":\"administrative\",\"importance\":0.8348636019573,\"icon\":\"http:\\/\\/nominatim.openstreetmap.org\\/images\\/mapicons\\/poi_boundary_administrative.p.20.png\"},\n",
    "    {\"place_id\":\"97496229\",\"licence\":\"Data \\u00a9 OpenStreetMap contributors, ODbL 1.0. http:\\/\\/www.openstreetmap.org\\/copyright\",\"osm_type\":\"relation\",\"osm_id\":\"162110\",\"boundingbox\":[\"38.4511260986328\",\"39.8394355773926\",\"-75.7890472412109\",\"-74.9846343994141\"],\"lat\":\"38.6920451\",\"lon\":\"-75.4013315\",\"display_name\":\"Delaware, United States of America\",\"place_rank\":\"8\",\"category\":\"boundary\",\"type\":\"administrative\",\"importance\":0.77403811573977,\"icon\":\"http:\\/\\/nominatim.openstreetmap.org\\/images\\/mapicons\\/poi_boundary_administrative.p.20.png\"},\n",
    "    {\"place_id\":\"97976186\",\"licence\":\"Data \\u00a9 OpenStreetMap contributors, ODbL 1.0. http:\\/\\/www.openstreetmap.org\\/copyright\",\"osm_type\":\"relation\",\"osm_id\":\"162050\",\"boundingbox\":[\"24.3963069915771\",\"31.0009689331055\",\"-87.6349029541016\",\"-79.9743041992188\"],\"lat\":\"27.7567667\",\"lon\":\"-81.4639835\",\"display_name\":\"Florida, United States of America\",\"place_rank\":\"8\",\"category\":\"boundary\",\"type\":\"administrative\",\"importance\":0.8809275903292,\"icon\":\"http:\\/\\/nominatim.openstreetmap.org\\/images\\/mapicons\\/poi_boundary_administrative.p.20.png\"},\n",
    "    {\"place_id\":\"97507938\",\"licence\":\"Data \\u00a9 OpenStreetMap contributors, ODbL 1.0. http:\\/\\/www.openstreetmap.org\\/copyright\",\"osm_type\":\"relation\",\"osm_id\":\"161957\",\"boundingbox\":[\"30.3557567596436\",\"35.0008316040039\",\"-85.6051712036133\",\"-80.7514266967773\"],\"lat\":\"32.3293809\",\"lon\":\"-83.1137366\",\"display_name\":\"Georgia, United States of America\",\"place_rank\":\"8\",\"category\":\"boundary\",\"type\":\"administrative\",\"importance\":0.82581639019695,\"icon\":\"http:\\/\\/nominatim.openstreetmap.org\\/images\\/mapicons\\/poi_boundary_administrative.p.20.png\"},\n",
    "    {\"place_id\":\"97976497\",\"licence\":\"Data \\u00a9 OpenStreetMap contributors, ODbL 1.0. http:\\/\\/www.openstreetmap.org\\/copyright\",\"osm_type\":\"relation\",\"osm_id\":\"162116\",\"boundingbox\":[\"41.9880561828613\",\"49.000846862793\",\"-117.243034362793\",\"-111.043563842773\"],\"lat\":\"43.6447642\",\"lon\":\"-114.0154071\",\"display_name\":\"Idaho, United States of America\",\"place_rank\":\"8\",\"category\":\"boundary\",\"type\":\"administrative\",\"importance\":0.79834952406626,\"icon\":\"http:\\/\\/nominatim.openstreetmap.org\\/images\\/mapicons\\/poi_boundary_administrative.p.20.png\"},\n",
    "    {\"place_id\":\"97666732\",\"licence\":\"Data \\u00a9 OpenStreetMap contributors, ODbL 1.0. http:\\/\\/www.openstreetmap.org\\/copyright\",\"osm_type\":\"relation\",\"osm_id\":\"122586\",\"boundingbox\":[\"36.9701309204102\",\"42.5083045959473\",\"-91.513053894043\",\"-87.0199203491211\"],\"lat\":\"40.0796319\",\"lon\":\"-89.4339809\",\"display_name\":\"Illinois, United States of America\",\"place_rank\":\"8\",\"category\":\"boundary\",\"type\":\"administrative\",\"importance\":0.88603348147544,\"icon\":\"http:\\/\\/nominatim.openstreetmap.org\\/images\\/mapicons\\/poi_boundary_administrative.p.20.png\"},\n",
    "    {\"place_id\":\"98170137\",\"licence\":\"Data \\u00a9 OpenStreetMap contributors, ODbL 1.0. http:\\/\\/www.openstreetmap.org\\/copyright\",\"osm_type\":\"relation\",\"osm_id\":\"161816\",\"boundingbox\":[\"37.7717399597168\",\"41.7613716125488\",\"-88.0997085571289\",\"-84.7845764160156\"],\"lat\":\"40.3270127\",\"lon\":\"-86.1746933\",\"display_name\":\"Indiana, United States of America\",\"place_rank\":\"8\",\"category\":\"boundary\",\"type\":\"administrative\",\"importance\":0.85312687542603,\"icon\":\"http:\\/\\/nominatim.openstreetmap.org\\/images\\/mapicons\\/poi_boundary_administrative.p.20.png\"},\n",
    "    {\"place_id\":\"97352973\",\"licence\":\"Data \\u00a9 OpenStreetMap contributors, ODbL 1.0. http:\\/\\/www.openstreetmap.org\\/copyright\",\"osm_type\":\"relation\",\"osm_id\":\"161650\",\"boundingbox\":[\"40.3755989074707\",\"43.5011367797852\",\"-96.6397171020508\",\"-90.1400604248047\"],\"lat\":\"41.9216734\",\"lon\":\"-93.3122705\",\"display_name\":\"Iowa, United States of America\",\"place_rank\":\"8\",\"category\":\"boundary\",\"type\":\"administrative\",\"importance\":0.83439717083983,\"icon\":\"http:\\/\\/nominatim.openstreetmap.org\\/images\\/mapicons\\/poi_boundary_administrative.p.20.png\"},\n",
    "    {\"place_id\":\"97420117\",\"licence\":\"Data \\u00a9 OpenStreetMap contributors, ODbL 1.0. http:\\/\\/www.openstreetmap.org\\/copyright\",\"osm_type\":\"relation\",\"osm_id\":\"161644\",\"boundingbox\":[\"36.9930801391602\",\"40.0030975341797\",\"-102.0517578125\",\"-94.5882034301758\"],\"lat\":\"38.27312\",\"lon\":\"-98.5821872\",\"display_name\":\"Kansas, United States of America\",\"place_rank\":\"8\",\"category\":\"boundary\",\"type\":\"administrative\",\"importance\":0.82874064555658,\"icon\":\"http:\\/\\/nominatim.openstreetmap.org\\/images\\/mapicons\\/poi_boundary_administrative.p.20.png\"},\n",
    "    {\"place_id\":\"97420298\",\"licence\":\"Data \\u00a9 OpenStreetMap contributors, ODbL 1.0. http:\\/\\/www.openstreetmap.org\\/copyright\",\"osm_type\":\"relation\",\"osm_id\":\"161655\",\"boundingbox\":[\"36.4967155456543\",\"39.1474609375\",\"-89.5715103149414\",\"-81.9645385742188\"],\"lat\":\"37.5726028\",\"lon\":\"-85.1551411\",\"display_name\":\"Kentucky, United States of America\",\"place_rank\":\"8\",\"category\":\"boundary\",\"type\":\"administrative\",\"importance\":0.82307182458231,\"icon\":\"http:\\/\\/nominatim.openstreetmap.org\\/images\\/mapicons\\/poi_boundary_administrative.p.20.png\"},\n",
    "    {\"place_id\":\"97417351\",\"licence\":\"Data \\u00a9 OpenStreetMap contributors, ODbL 1.0. http:\\/\\/www.openstreetmap.org\\/copyright\",\"osm_type\":\"relation\",\"osm_id\":\"224922\",\"boundingbox\":[\"28.9210300445557\",\"33.019458770752\",\"-94.0431518554688\",\"-88.817008972168\"],\"lat\":\"30.8703881\",\"lon\":\"-92.007126\",\"display_name\":\"Louisiana, United States of America\",\"place_rank\":\"8\",\"category\":\"boundary\",\"type\":\"administrative\",\"importance\":0.82544666601754,\"icon\":\"http:\\/\\/nominatim.openstreetmap.org\\/images\\/mapicons\\/poi_boundary_administrative.p.20.png\"},\n",
    "    {\"place_id\":\"97935034\",\"licence\":\"Data \\u00a9 OpenStreetMap contributors, ODbL 1.0. http:\\/\\/www.openstreetmap.org\\/copyright\",\"osm_type\":\"relation\",\"osm_id\":\"63512\",\"boundingbox\":[\"42.9561233520508\",\"47.4598426818848\",\"-71.0841751098633\",\"-66.9250717163086\"],\"lat\":\"45.709097\",\"lon\":\"-68.8590201\",\"display_name\":\"Maine, United States of America\",\"place_rank\":\"8\",\"category\":\"boundary\",\"type\":\"administrative\",\"importance\":0.8060117209556,\"icon\":\"http:\\/\\/nominatim.openstreetmap.org\\/images\\/mapicons\\/poi_boundary_administrative.p.20.png\"},\n",
    "    {\"place_id\":\"97354318\",\"licence\":\"Data \\u00a9 OpenStreetMap contributors, ODbL 1.0. http:\\/\\/www.openstreetmap.org\\/copyright\",\"osm_type\":\"relation\",\"osm_id\":\"162112\",\"boundingbox\":[\"37.8856391906738\",\"39.7229347229004\",\"-79.4871978759766\",\"-75.0395584106445\"],\"lat\":\"39.5162234\",\"lon\":\"-76.9382069\",\"display_name\":\"Maryland, United States of America\",\"place_rank\":\"8\",\"category\":\"boundary\",\"type\":\"administrative\",\"importance\":0.84496098916703,\"icon\":\"http:\\/\\/nominatim.openstreetmap.org\\/images\\/mapicons\\/poi_boundary_administrative.p.20.png\"},\n",
    "    {\"place_id\":\"97930826\",\"licence\":\"Data \\u00a9 OpenStreetMap contributors, ODbL 1.0. http:\\/\\/www.openstreetmap.org\\/copyright\",\"osm_type\":\"relation\",\"osm_id\":\"61315\",\"boundingbox\":[\"41.1863288879395\",\"42.8867149353027\",\"-73.5081481933594\",\"-69.8615341186523\"],\"lat\":\"42.3788774\",\"lon\":\"-72.032366\",\"display_name\":\"Massachusetts, United States of America\",\"place_rank\":\"8\",\"category\":\"boundary\",\"type\":\"administrative\",\"importance\":0.88500783209862,\"icon\":\"http:\\/\\/nominatim.openstreetmap.org\\/images\\/mapicons\\/poi_boundary_administrative.p.20.png\"},\n",
    "    {\"place_id\":\"97996053\",\"licence\":\"Data \\u00a9 OpenStreetMap contributors, ODbL 1.0. http:\\/\\/www.openstreetmap.org\\/copyright\",\"osm_type\":\"relation\",\"osm_id\":\"165789\",\"boundingbox\":[\"41.6960868835449\",\"48.3060646057129\",\"-90.4186248779297\",\"-82.122802734375\"],\"lat\":\"43.6211955\",\"lon\":\"-84.6824346\",\"display_name\":\"Michigan, United States of America\",\"place_rank\":\"8\",\"category\":\"boundary\",\"type\":\"administrative\",\"importance\":0.86014237728546,\"icon\":\"http:\\/\\/nominatim.openstreetmap.org\\/images\\/mapicons\\/poi_boundary_administrative.p.20.png\"},\n",
    "    {\"place_id\":\"97978371\",\"licence\":\"Data \\u00a9 OpenStreetMap contributors, ODbL 1.0. http:\\/\\/www.openstreetmap.org\\/copyright\",\"osm_type\":\"relation\",\"osm_id\":\"165471\",\"boundingbox\":[\"43.4994277954102\",\"49.3844909667969\",\"-97.2392654418945\",\"-89.4833831787109\"],\"lat\":\"45.9896587\",\"lon\":\"-94.6113288\",\"display_name\":\"Minnesota, United States of America\",\"place_rank\":\"8\",\"category\":\"boundary\",\"type\":\"administrative\",\"importance\":0.85702652066323,\"icon\":\"http:\\/\\/nominatim.openstreetmap.org\\/images\\/mapicons\\/poi_boundary_administrative.p.20.png\"},\n",
    "    {\"place_id\":\"97976703\",\"licence\":\"Data \\u00a9 OpenStreetMap contributors, ODbL 1.0. http:\\/\\/www.openstreetmap.org\\/copyright\",\"osm_type\":\"relation\",\"osm_id\":\"161943\",\"boundingbox\":[\"30.1477890014648\",\"34.9960556030273\",\"-91.6550140380859\",\"-88.0980072021484\"],\"lat\":\"32.9715645\",\"lon\":\"-89.7348497\",\"display_name\":\"Mississippi, United States of America\",\"place_rank\":\"8\",\"category\":\"boundary\",\"type\":\"administrative\",\"importance\":0.79315259199359,\"icon\":\"http:\\/\\/nominatim.openstreetmap.org\\/images\\/mapicons\\/poi_boundary_administrative.p.20.png\"},\n",
    "    {\"place_id\":\"97506487\",\"licence\":\"Data \\u00a9 OpenStreetMap contributors, ODbL 1.0. http:\\/\\/www.openstreetmap.org\\/copyright\",\"osm_type\":\"relation\",\"osm_id\":\"161638\",\"boundingbox\":[\"35.9956817626953\",\"40.6136360168457\",\"-95.7741470336914\",\"-89.0988388061523\"],\"lat\":\"38.7604815\",\"lon\":\"-92.5617875\",\"display_name\":\"Missouri, United States of America\",\"place_rank\":\"8\",\"category\":\"boundary\",\"type\":\"administrative\",\"importance\":0.83950902202684,\"icon\":\"http:\\/\\/nominatim.openstreetmap.org\\/images\\/mapicons\\/poi_boundary_administrative.p.20.png\"},\n",
    "    {\"place_id\":\"97995019\",\"licence\":\"Data \\u00a9 OpenStreetMap contributors, ODbL 1.0. http:\\/\\/www.openstreetmap.org\\/copyright\",\"osm_type\":\"relation\",\"osm_id\":\"162115\",\"boundingbox\":[\"44.3582191467285\",\"49.0011100769043\",\"-116.050003051758\",\"-104.039558410645\"],\"lat\":\"47.3752671\",\"lon\":\"-109.6387579\",\"display_name\":\"Montana, United States of America\",\"place_rank\":\"8\",\"category\":\"boundary\",\"type\":\"administrative\",\"importance\":0.80624103649568,\"icon\":\"http:\\/\\/nominatim.openstreetmap.org\\/images\\/mapicons\\/poi_boundary_administrative.p.20.png\"},\n",
    "    {\"place_id\":\"97494989\",\"licence\":\"Data \\u00a9 OpenStreetMap contributors, ODbL 1.0. http:\\/\\/www.openstreetmap.org\\/copyright\",\"osm_type\":\"relation\",\"osm_id\":\"161648\",\"boundingbox\":[\"39.9999961853027\",\"43.0017013549805\",\"-104.053520202637\",\"-95.3080520629883\"],\"lat\":\"41.7370229\",\"lon\":\"-99.5873816\",\"display_name\":\"Nebraska, United States of America\",\"place_rank\":\"8\",\"category\":\"boundary\",\"type\":\"administrative\",\"importance\":0.80733262918757,\"icon\":\"http:\\/\\/nominatim.openstreetmap.org\\/images\\/mapicons\\/poi_boundary_administrative.p.20.png\"},\n",
    "    {\"place_id\":\"97901445\",\"licence\":\"Data \\u00a9 OpenStreetMap contributors, ODbL 1.0. http:\\/\\/www.openstreetmap.org\\/copyright\",\"osm_type\":\"relation\",\"osm_id\":\"165473\",\"boundingbox\":[\"35.0018730163574\",\"42.0022087097168\",\"-120.005729675293\",\"-114.039642333984\"],\"lat\":\"39.5158825\",\"lon\":\"-116.8537227\",\"display_name\":\"Nevada, United States of America\",\"place_rank\":\"8\",\"category\":\"boundary\",\"type\":\"administrative\",\"importance\":0.81544676089165,\"icon\":\"http:\\/\\/nominatim.openstreetmap.org\\/images\\/mapicons\\/poi_boundary_administrative.p.20.png\"},\n",
    "    {\"place_id\":\"97353681\",\"licence\":\"Data \\u00a9 OpenStreetMap contributors, ODbL 1.0. http:\\/\\/www.openstreetmap.org\\/copyright\",\"osm_type\":\"relation\",\"osm_id\":\"67213\",\"boundingbox\":[\"42.6970405578613\",\"45.3057823181152\",\"-72.55712890625\",\"-70.534065246582\"],\"lat\":\"43.4849133\",\"lon\":\"-71.6553992\",\"display_name\":\"New Hampshire, United States of America\",\"place_rank\":\"8\",\"category\":\"boundary\",\"type\":\"administrative\",\"importance\":0.84090379414233,\"icon\":\"http:\\/\\/nominatim.openstreetmap.org\\/images\\/mapicons\\/poi_boundary_administrative.p.20.png\"},\n",
    "    {\"place_id\":\"97997829\",\"licence\":\"Data \\u00a9 OpenStreetMap contributors, ODbL 1.0. http:\\/\\/www.openstreetmap.org\\/copyright\",\"osm_type\":\"relation\",\"osm_id\":\"224951\",\"boundingbox\":[\"38.7887535095215\",\"41.3574256896973\",\"-75.5633926391602\",\"-73.8850555419922\"],\"lat\":\"40.0757384\",\"lon\":\"-74.4041622\",\"display_name\":\"New Jersey, United States of America\",\"place_rank\":\"8\",\"category\":\"boundary\",\"type\":\"administrative\",\"importance\":0.9149971156187,\"icon\":\"http:\\/\\/nominatim.openstreetmap.org\\/images\\/mapicons\\/poi_boundary_administrative.p.20.png\"},\n",
    "    {\"place_id\":\"98170234\",\"licence\":\"Data \\u00a9 OpenStreetMap contributors, ODbL 1.0. http:\\/\\/www.openstreetmap.org\\/copyright\",\"osm_type\":\"relation\",\"osm_id\":\"162014\",\"boundingbox\":[\"31.3323001861572\",\"37.0001411437988\",\"-109.050178527832\",\"-103.000862121582\"],\"lat\":\"34.5708167\",\"lon\":\"-105.993007\",\"display_name\":\"New Mexico, United States of America\",\"place_rank\":\"8\",\"category\":\"boundary\",\"type\":\"administrative\",\"importance\":0.85629204313012,\"icon\":\"http:\\/\\/nominatim.openstreetmap.org\\/images\\/mapicons\\/poi_boundary_administrative.p.20.png\"},\n",
    "    {\"place_id\":\"3666082154\",\"licence\":\"Data \\u00a9 OpenStreetMap contributors, ODbL 1.0. http:\\/\\/www.openstreetmap.org\\/copyright\",\"osm_type\":\"relation\",\"osm_id\":\"61320\",\"boundingbox\":[\"40.4773979187012\",\"45.0158615112305\",\"-79.7625122070312\",\"-71.8527069091797\"],\"lat\":\"43.1561681\",\"lon\":\"-75.8449946\",\"display_name\":\"New York, United States of America\",\"place_rank\":\"8\",\"category\":\"boundary\",\"type\":\"administrative\",\"importance\":0.9704572196627,\"icon\":\"http:\\/\\/nominatim.openstreetmap.org\\/images\\/mapicons\\/poi_boundary_administrative.p.20.png\"},\n",
    "    {\"place_id\":\"98017121\",\"licence\":\"Data \\u00a9 OpenStreetMap contributors, ODbL 1.0. http:\\/\\/www.openstreetmap.org\\/copyright\",\"osm_type\":\"relation\",\"osm_id\":\"224045\",\"boundingbox\":[\"33.7528762817383\",\"36.5880393981934\",\"-84.3218765258789\",\"-75.4001159667969\"],\"lat\":\"35.6729639\",\"lon\":\"-79.0392919\",\"display_name\":\"North Carolina, United States of America\",\"place_rank\":\"8\",\"category\":\"boundary\",\"type\":\"administrative\",\"importance\":0.89859357977111,\"icon\":\"http:\\/\\/nominatim.openstreetmap.org\\/images\\/mapicons\\/poi_boundary_administrative.p.20.png\"},\n",
    "    {\"place_id\":\"97994496\",\"licence\":\"Data \\u00a9 OpenStreetMap contributors, ODbL 1.0. http:\\/\\/www.openstreetmap.org\\/copyright\",\"osm_type\":\"relation\",\"osm_id\":\"161653\",\"boundingbox\":[\"45.9350357055664\",\"49.0004920959473\",\"-104.049270629883\",\"-96.5543899536133\"],\"lat\":\"47.6201461\",\"lon\":\"-100.540737\",\"display_name\":\"North Dakota, United States of America\",\"place_rank\":\"8\",\"category\":\"boundary\",\"type\":\"administrative\",\"importance\":0.80989374269226,\"icon\":\"http:\\/\\/nominatim.openstreetmap.org\\/images\\/mapicons\\/poi_boundary_administrative.p.20.png\"},\n",
    "    {\"place_id\":\"97976433\",\"licence\":\"Data \\u00a9 OpenStreetMap contributors, ODbL 1.0. http:\\/\\/www.openstreetmap.org\\/copyright\",\"osm_type\":\"relation\",\"osm_id\":\"162061\",\"boundingbox\":[\"38.4031982421875\",\"42.3232383728027\",\"-84.8203430175781\",\"-80.5189895629883\"],\"lat\":\"40.2253569\",\"lon\":\"-82.6881395\",\"display_name\":\"Ohio, United States of America\",\"place_rank\":\"8\",\"category\":\"boundary\",\"type\":\"administrative\",\"importance\":0.88073817597768,\"icon\":\"http:\\/\\/nominatim.openstreetmap.org\\/images\\/mapicons\\/poi_boundary_administrative.p.20.png\"},\n",
    "    {\"place_id\":\"97899846\",\"licence\":\"Data \\u00a9 OpenStreetMap contributors, ODbL 1.0. http:\\/\\/www.openstreetmap.org\\/copyright\",\"osm_type\":\"relation\",\"osm_id\":\"161645\",\"boundingbox\":[\"33.6191940307617\",\"37.0021362304688\",\"-103.002571105957\",\"-94.4312133789062\"],\"lat\":\"34.9550817\",\"lon\":\"-97.2684063\",\"display_name\":\"Oklahoma, United States of America\",\"place_rank\":\"8\",\"category\":\"boundary\",\"type\":\"administrative\",\"importance\":0.82932391764569,\"icon\":\"http:\\/\\/nominatim.openstreetmap.org\\/images\\/mapicons\\/poi_boundary_administrative.p.20.png\"},\n",
    "    {\"place_id\":\"97500523\",\"licence\":\"Data \\u00a9 OpenStreetMap contributors, ODbL 1.0. http:\\/\\/www.openstreetmap.org\\/copyright\",\"osm_type\":\"relation\",\"osm_id\":\"165476\",\"boundingbox\":[\"41.9917907714844\",\"46.2991027832031\",\"-124.703544616699\",\"-116.463500976562\"],\"lat\":\"43.9792797\",\"lon\":\"-120.737257\",\"display_name\":\"Oregon, United States of America\",\"place_rank\":\"8\",\"category\":\"boundary\",\"type\":\"administrative\",\"importance\":0.84674545105789,\"icon\":\"http:\\/\\/nominatim.openstreetmap.org\\/images\\/mapicons\\/poi_boundary_administrative.p.20.png\"},\n",
    "    {\"place_id\":\"97714871\",\"licence\":\"Data \\u00a9 OpenStreetMap contributors, ODbL 1.0. http:\\/\\/www.openstreetmap.org\\/copyright\",\"osm_type\":\"relation\",\"osm_id\":\"162109\",\"boundingbox\":[\"39.7197647094727\",\"42.5146903991699\",\"-80.5210876464844\",\"-74.6894989013672\"],\"lat\":\"40.9699889\",\"lon\":\"-77.7278831\",\"display_name\":\"Pennsylvania, United States of America\",\"place_rank\":\"8\",\"category\":\"boundary\",\"type\":\"administrative\",\"importance\":0.89569624202177,\"icon\":\"http:\\/\\/nominatim.openstreetmap.org\\/images\\/mapicons\\/poi_boundary_administrative.p.20.png\"},\n",
    "    {\"place_id\":\"98198230\",\"licence\":\"Data \\u00a9 OpenStreetMap contributors, ODbL 1.0. http:\\/\\/www.openstreetmap.org\\/copyright\",\"osm_type\":\"relation\",\"osm_id\":\"392915\",\"boundingbox\":[\"41.055534362793\",\"42.018856048584\",\"-71.9070053100586\",\"-71.1204681396484\"],\"lat\":\"41.7962409\",\"lon\":\"-71.5992372\",\"display_name\":\"Rhode Island, United States of America\",\"place_rank\":\"8\",\"category\":\"boundary\",\"type\":\"administrative\",\"importance\":0.83143981231953,\"icon\":\"http:\\/\\/nominatim.openstreetmap.org\\/images\\/mapicons\\/poi_boundary_administrative.p.20.png\"},\n",
    "    {\"place_id\":\"97549969\",\"licence\":\"Data \\u00a9 OpenStreetMap contributors, ODbL 1.0. http:\\/\\/www.openstreetmap.org\\/copyright\",\"osm_type\":\"relation\",\"osm_id\":\"224040\",\"boundingbox\":[\"32.0333099365234\",\"35.2155418395996\",\"-83.35400390625\",\"-78.4992980957031\"],\"lat\":\"33.6874388\",\"lon\":\"-80.4363743\",\"display_name\":\"South Carolina, United States of America\",\"place_rank\":\"8\",\"category\":\"boundary\",\"type\":\"administrative\",\"importance\":0.84408869549703,\"icon\":\"http:\\/\\/nominatim.openstreetmap.org\\/images\\/mapicons\\/poi_boundary_administrative.p.20.png\"},\n",
    "    {\"place_id\":\"97995120\",\"licence\":\"Data \\u00a9 OpenStreetMap contributors, ODbL 1.0. http:\\/\\/www.openstreetmap.org\\/copyright\",\"osm_type\":\"relation\",\"osm_id\":\"161652\",\"boundingbox\":[\"42.4798889160156\",\"45.9454536437988\",\"-104.05770111084\",\"-96.4363327026367\"],\"lat\":\"44.6471761\",\"lon\":\"-100.348761\",\"display_name\":\"South Dakota, United States of America\",\"place_rank\":\"8\",\"category\":\"boundary\",\"type\":\"administrative\",\"importance\":0.8258113860334,\"icon\":\"http:\\/\\/nominatim.openstreetmap.org\\/images\\/mapicons\\/poi_boundary_administrative.p.20.png\"},\n",
    "    {\"place_id\":\"98170157\",\"licence\":\"Data \\u00a9 OpenStreetMap contributors, ODbL 1.0. http:\\/\\/www.openstreetmap.org\\/copyright\",\"osm_type\":\"relation\",\"osm_id\":\"161838\",\"boundingbox\":[\"34.9829788208008\",\"36.6781196594238\",\"-90.310302734375\",\"-81.6468963623047\"],\"lat\":\"35.7730076\",\"lon\":\"-86.2820081\",\"display_name\":\"Tennessee, United States of America\",\"place_rank\":\"8\",\"category\":\"boundary\",\"type\":\"administrative\",\"importance\":0.83833971190562,\"icon\":\"http:\\/\\/nominatim.openstreetmap.org\\/images\\/mapicons\\/poi_boundary_administrative.p.20.png\"},\n",
    "    {\"place_id\":\"97431605\",\"licence\":\"Data \\u00a9 OpenStreetMap contributors, ODbL 1.0. http:\\/\\/www.openstreetmap.org\\/copyright\",\"osm_type\":\"relation\",\"osm_id\":\"114690\",\"boundingbox\":[\"25.8370609283447\",\"36.5007057189941\",\"-106.645652770996\",\"-93.5078201293945\"],\"lat\":\"31.8160381\",\"lon\":\"-99.5120986\",\"display_name\":\"Texas, United States of America\",\"place_rank\":\"8\",\"category\":\"boundary\",\"type\":\"administrative\",\"importance\":0.89561253816077,\"icon\":\"http:\\/\\/nominatim.openstreetmap.org\\/images\\/mapicons\\/poi_boundary_administrative.p.20.png\"},\n",
    "    {\"place_id\":\"97995496\",\"licence\":\"Data \\u00a9 OpenStreetMap contributors, ODbL 1.0. http:\\/\\/www.openstreetmap.org\\/copyright\",\"osm_type\":\"relation\",\"osm_id\":\"161993\",\"boundingbox\":[\"36.9979667663574\",\"42.0013885498047\",\"-114.053932189941\",\"-109.041069030762\"],\"lat\":\"39.4225192\",\"lon\":\"-111.7143584\",\"display_name\":\"Utah, United States of America\",\"place_rank\":\"8\",\"category\":\"boundary\",\"type\":\"administrative\",\"importance\":0.82026138916081,\"icon\":\"http:\\/\\/nominatim.openstreetmap.org\\/images\\/mapicons\\/poi_boundary_administrative.p.20.png\"},\n",
    "    {\"place_id\":\"98148769\",\"licence\":\"Data \\u00a9 OpenStreetMap contributors, ODbL 1.0. http:\\/\\/www.openstreetmap.org\\/copyright\",\"osm_type\":\"relation\",\"osm_id\":\"60759\",\"boundingbox\":[\"42.7269325256348\",\"45.0166664123535\",\"-73.437744140625\",\"-71.4653549194336\"],\"lat\":\"44.5990718\",\"lon\":\"-72.5002608\",\"display_name\":\"Vermont, United States of America\",\"place_rank\":\"8\",\"category\":\"boundary\",\"type\":\"administrative\",\"importance\":0.79413819904292,\"icon\":\"http:\\/\\/nominatim.openstreetmap.org\\/images\\/mapicons\\/poi_boundary_administrative.p.20.png\"},\n",
    "    {\"place_id\":\"97416513\",\"licence\":\"Data \\u00a9 OpenStreetMap contributors, ODbL 1.0. http:\\/\\/www.openstreetmap.org\\/copyright\",\"osm_type\":\"relation\",\"osm_id\":\"224042\",\"boundingbox\":[\"36.5407867431641\",\"39.4660148620605\",\"-83.6754150390625\",\"-75.2312240600586\"],\"lat\":\"37.1232245\",\"lon\":\"-78.4927721\",\"display_name\":\"Virginia, United States of America\",\"place_rank\":\"8\",\"category\":\"boundary\",\"type\":\"administrative\",\"importance\":0.86268567064987,\"icon\":\"http:\\/\\/nominatim.openstreetmap.org\\/images\\/mapicons\\/poi_boundary_administrative.p.20.png\"},\n",
    "    {\"place_id\":\"98170616\",\"licence\":\"Data \\u00a9 OpenStreetMap contributors, ODbL 1.0. http:\\/\\/www.openstreetmap.org\\/copyright\",\"osm_type\":\"relation\",\"osm_id\":\"165479\",\"boundingbox\":[\"45.5437202453613\",\"49.00244140625\",\"-124.836097717285\",\"-116.917427062988\"],\"lat\":\"47.2868352\",\"lon\":\"-120.2126139\",\"display_name\":\"Washington, United States of America\",\"place_rank\":\"8\",\"category\":\"boundary\",\"type\":\"administrative\",\"importance\":0.74397763353044,\"icon\":\"http:\\/\\/nominatim.openstreetmap.org\\/images\\/mapicons\\/poi_boundary_administrative.p.20.png\"},\n",
    "    {\"place_id\":\"97353921\",\"licence\":\"Data \\u00a9 OpenStreetMap contributors, ODbL 1.0. http:\\/\\/www.openstreetmap.org\\/copyright\",\"osm_type\":\"relation\",\"osm_id\":\"162068\",\"boundingbox\":[\"37.2014808654785\",\"40.638801574707\",\"-82.6447448730469\",\"-77.7190246582031\"],\"lat\":\"38.4758406\",\"lon\":\"-80.8408415\",\"display_name\":\"West Virginia, United States of America\",\"place_rank\":\"8\",\"category\":\"boundary\",\"type\":\"administrative\",\"importance\":0.83918652109036,\"icon\":\"http:\\/\\/nominatim.openstreetmap.org\\/images\\/mapicons\\/poi_boundary_administrative.p.20.png\"},\n",
    "    {\"place_id\":\"97512152\",\"licence\":\"Data \\u00a9 OpenStreetMap contributors, ODbL 1.0. http:\\/\\/www.openstreetmap.org\\/copyright\",\"osm_type\":\"relation\",\"osm_id\":\"165466\",\"boundingbox\":[\"42.491943359375\",\"47.3025016784668\",\"-92.8881149291992\",\"-86.2495422363281\"],\"lat\":\"44.4308975\",\"lon\":\"-89.6884637\",\"display_name\":\"Wisconsin, United States of America\",\"place_rank\":\"8\",\"category\":\"boundary\",\"type\":\"administrative\",\"importance\":0.85042971924881,\"icon\":\"http:\\/\\/nominatim.openstreetmap.org\\/images\\/mapicons\\/poi_boundary_administrative.p.20.png\"},\n",
    "    {\"place_id\":\"97353683\",\"licence\":\"Data \\u00a9 OpenStreetMap contributors, ODbL 1.0. http:\\/\\/www.openstreetmap.org\\/copyright\",\"osm_type\":\"relation\",\"osm_id\":\"161991\",\"boundingbox\":[\"40.9948768615723\",\"45.0034217834473\",\"-111.05689239502\",\"-104.052154541016\"],\"lat\":\"43.1700264\",\"lon\":\"-107.5685348\",\"display_name\":\"Wyoming, United States of America\",\"place_rank\":\"8\",\"category\":\"boundary\",\"type\":\"administrative\",\"importance\":0.78780735266049,\"icon\":\"http:\\/\\/nominatim.openstreetmap.org\\/images\\/mapicons\\/poi_boundary_administrative.p.20.png\"},\n",
    "]\n",
    "from ast import literal_eval\n",
    "df_state_bounds = pd.DataFrame.from_records(state_bounds)\n",
    "df_fla = df_state_bounds[df_state_bounds['display_name'].str.contains(\"Florida\")]\n",
    "df_fla.head(10)"
   ]
  },
  {
   "cell_type": "markdown",
   "metadata": {},
   "source": [
    "## WIGLE Requests\n",
    "~ SSID's of interest: [\"PANERA\", \"HomeDepot\", \"Public\", \"Taco Bell\", \"Wafflehouse\", \"Public\",\n",
    "                       \"Taco Bell\", \"Radisson\", \"Macysfreewifi\", \"hhonors\", \"laQuinta\"]\n",
    "\n",
    "```Test query:\n",
    "    payload = {'latrange1':42.3583256, 'latrange2':42.5583256, 'longrange1':-71.2392361, 'longrange2':-71.0392361,                  'api_key': (wigle_username + wigle_password).encode()}\n",
    "    sample_results = requests.get(url='https://api.wigle.net/api/v2/network/search', params=payload, \n",
    "                                  auth=HTTPBasicAuth(wigle_username, wigle_password)).json()\n",
    "    ```"
   ]
  },
  {
   "cell_type": "code",
   "execution_count": 15,
   "metadata": {},
   "outputs": [],
   "source": [
    "#Wigle.net\n",
    "wigle_username = \"AID9c324da717ded33ebf720d28268fc341\"\n",
    "wigle_password = \"5af73eb0d4f61631bc9ddd3701e15707\""
   ]
  },
  {
   "cell_type": "markdown",
   "metadata": {},
   "source": [
    "## Set Up Florida Query Parameters"
   ]
  },
  {
   "cell_type": "code",
   "execution_count": 16,
   "metadata": {},
   "outputs": [],
   "source": [
    "df_fla= df_fla.boundingbox.apply(pd.Series) \\\n",
    "              .merge(df_fla, left_index = True, right_index = True).drop([\"boundingbox\"], axis = 1)\\\n",
    "              .rename(columns = {0:'latrange1', 1:'latrange2', 2:'longrange1', 3:'longrange2'})\n",
    "\n",
    "df_fla['latrange1'] = pd.eval(df_fla['latrange1'])\n",
    "df_fla['latrange2'] = pd.eval(df_fla['latrange2'])\n",
    "df_fla['longrange1'] = pd.eval(df_fla['longrange1'])\n",
    "df_fla['longrange2'] = pd.eval(df_fla['longrange2'])"
   ]
  },
  {
   "cell_type": "code",
   "execution_count": 17,
   "metadata": {},
   "outputs": [
    {
     "data": {
      "text/html": [
       "<div>\n",
       "<style scoped>\n",
       "    .dataframe tbody tr th:only-of-type {\n",
       "        vertical-align: middle;\n",
       "    }\n",
       "\n",
       "    .dataframe tbody tr th {\n",
       "        vertical-align: top;\n",
       "    }\n",
       "\n",
       "    .dataframe thead th {\n",
       "        text-align: right;\n",
       "    }\n",
       "</style>\n",
       "<table border=\"1\" class=\"dataframe\">\n",
       "  <thead>\n",
       "    <tr style=\"text-align: right;\">\n",
       "      <th></th>\n",
       "      <th>netid</th>\n",
       "      <th>qos</th>\n",
       "      <th>ssid</th>\n",
       "      <th>firsttime</th>\n",
       "      <th>lasttime</th>\n",
       "      <th>trilat</th>\n",
       "      <th>trilong</th>\n",
       "    </tr>\n",
       "  </thead>\n",
       "  <tbody>\n",
       "    <tr>\n",
       "      <th>9</th>\n",
       "      <td>06:27:228f:1d:51</td>\n",
       "      <td>6</td>\n",
       "      <td>wafflehouse</td>\n",
       "      <td>2009-03-23T23:20:00.000Z</td>\n",
       "      <td>2013-07-19T12:52:16.000Z</td>\n",
       "      <td>26.356892</td>\n",
       "      <td>-86.949468</td>\n",
       "    </tr>\n",
       "    <tr>\n",
       "      <th>12</th>\n",
       "      <td>8C:0C:90c0:25:f4</td>\n",
       "      <td>7</td>\n",
       "      <td>wafflehouse</td>\n",
       "      <td>2010-04-03T03:23:12.000Z</td>\n",
       "      <td>2019-01-08T05:52:00.000Z</td>\n",
       "      <td>27.450385</td>\n",
       "      <td>-83.406333</td>\n",
       "    </tr>\n",
       "    <tr>\n",
       "      <th>13</th>\n",
       "      <td>54:A2:74cc:70:84</td>\n",
       "      <td>6</td>\n",
       "      <td>wafflehouse</td>\n",
       "      <td>2012-06-21T05:36:32.000Z</td>\n",
       "      <td>2018-09-24T09:41:36.000Z</td>\n",
       "      <td>26.114800</td>\n",
       "      <td>-83.992078</td>\n",
       "    </tr>\n",
       "    <tr>\n",
       "      <th>33</th>\n",
       "      <td>00:15:05ee:6c:1b</td>\n",
       "      <td>6</td>\n",
       "      <td>wafflehouse</td>\n",
       "      <td>2007-10-04T01:47:44.000Z</td>\n",
       "      <td>2017-11-26T22:39:28.000Z</td>\n",
       "      <td>25.176985</td>\n",
       "      <td>-85.659982</td>\n",
       "    </tr>\n",
       "    <tr>\n",
       "      <th>47</th>\n",
       "      <td>5C:57:1A67:99:56</td>\n",
       "      <td>7</td>\n",
       "      <td>wafflehouse</td>\n",
       "      <td>2012-12-11T02:30:24.000Z</td>\n",
       "      <td>2017-09-20T00:52:32.000Z</td>\n",
       "      <td>26.290942</td>\n",
       "      <td>-84.222736</td>\n",
       "    </tr>\n",
       "    <tr>\n",
       "      <th>48</th>\n",
       "      <td>70:3A:CBf5:d5:fb</td>\n",
       "      <td>7</td>\n",
       "      <td>wafflehouse</td>\n",
       "      <td>2008-10-02T03:13:52.000Z</td>\n",
       "      <td>2012-03-21T20:08:32.000Z</td>\n",
       "      <td>26.229610</td>\n",
       "      <td>-81.560189</td>\n",
       "    </tr>\n",
       "    <tr>\n",
       "      <th>70</th>\n",
       "      <td>F8:E9:0310:0e:0f</td>\n",
       "      <td>7</td>\n",
       "      <td>wafflehouse</td>\n",
       "      <td>2014-01-17T22:09:04.000Z</td>\n",
       "      <td>2017-05-23T20:31:20.000Z</td>\n",
       "      <td>27.814229</td>\n",
       "      <td>-85.475350</td>\n",
       "    </tr>\n",
       "    <tr>\n",
       "      <th>88</th>\n",
       "      <td>D2:05:C269:c6:01</td>\n",
       "      <td>7</td>\n",
       "      <td>wafflehouse</td>\n",
       "      <td>2014-08-21T03:21:04.000Z</td>\n",
       "      <td>2014-09-12T06:15:05.000Z</td>\n",
       "      <td>28.421719</td>\n",
       "      <td>-80.898224</td>\n",
       "    </tr>\n",
       "    <tr>\n",
       "      <th>90</th>\n",
       "      <td>AE:22:152c:41:c6</td>\n",
       "      <td>6</td>\n",
       "      <td>wafflehouse</td>\n",
       "      <td>2016-06-13T14:12:48.000Z</td>\n",
       "      <td>2018-11-04T11:47:36.000Z</td>\n",
       "      <td>30.841963</td>\n",
       "      <td>-83.668113</td>\n",
       "    </tr>\n",
       "    <tr>\n",
       "      <th>93</th>\n",
       "      <td>78:94:B431:c7:42</td>\n",
       "      <td>6</td>\n",
       "      <td>wafflehouse</td>\n",
       "      <td>2015-04-02T04:29:52.000Z</td>\n",
       "      <td>2017-01-21T17:25:16.000Z</td>\n",
       "      <td>25.181920</td>\n",
       "      <td>-84.028650</td>\n",
       "    </tr>\n",
       "  </tbody>\n",
       "</table>\n",
       "</div>"
      ],
      "text/plain": [
       "               netid  qos         ssid                 firsttime  \\\n",
       "9   06:27:228f:1d:51  6    wafflehouse  2009-03-23T23:20:00.000Z   \n",
       "12  8C:0C:90c0:25:f4  7    wafflehouse  2010-04-03T03:23:12.000Z   \n",
       "13  54:A2:74cc:70:84  6    wafflehouse  2012-06-21T05:36:32.000Z   \n",
       "33  00:15:05ee:6c:1b  6    wafflehouse  2007-10-04T01:47:44.000Z   \n",
       "47  5C:57:1A67:99:56  7    wafflehouse  2012-12-11T02:30:24.000Z   \n",
       "48  70:3A:CBf5:d5:fb  7    wafflehouse  2008-10-02T03:13:52.000Z   \n",
       "70  F8:E9:0310:0e:0f  7    wafflehouse  2014-01-17T22:09:04.000Z   \n",
       "88  D2:05:C269:c6:01  7    wafflehouse  2014-08-21T03:21:04.000Z   \n",
       "90  AE:22:152c:41:c6  6    wafflehouse  2016-06-13T14:12:48.000Z   \n",
       "93  78:94:B431:c7:42  6    wafflehouse  2015-04-02T04:29:52.000Z   \n",
       "\n",
       "                    lasttime     trilat    trilong  \n",
       "9   2013-07-19T12:52:16.000Z  26.356892 -86.949468  \n",
       "12  2019-01-08T05:52:00.000Z  27.450385 -83.406333  \n",
       "13  2018-09-24T09:41:36.000Z  26.114800 -83.992078  \n",
       "33  2017-11-26T22:39:28.000Z  25.176985 -85.659982  \n",
       "47  2017-09-20T00:52:32.000Z  26.290942 -84.222736  \n",
       "48  2012-03-21T20:08:32.000Z  26.229610 -81.560189  \n",
       "70  2017-05-23T20:31:20.000Z  27.814229 -85.475350  \n",
       "88  2014-09-12T06:15:05.000Z  28.421719 -80.898224  \n",
       "90  2018-11-04T11:47:36.000Z  30.841963 -83.668113  \n",
       "93  2017-01-21T17:25:16.000Z  25.181920 -84.028650  "
      ]
     },
     "execution_count": 17,
     "metadata": {},
     "output_type": "execute_result"
    }
   ],
   "source": [
    "payload = {'latrange1':df_fla['latrange1'].iloc[0], 'latrange2':df_fla['latrange2'].iloc[0], \n",
    "           'longrange1':df_fla['longrange1'].iloc[0], 'longrange2':df_fla['longrange2'].iloc[0],\n",
    "           'api_key': (wigle_username + wigle_password).encode(), \"minQoS\": 0,\n",
    "           'onlymine':\"false\", 'first':0, 'freenet':\"true\", 'paynet':\"false\", \n",
    "           \"ssid\": \"wafflehouse\", \"lastupdt\": 20170101}\n",
    "restaurant_results = requests.get(url='https://api.wigle.net/api/v2/network/search',\n",
    "                              params=payload,\n",
    "                              auth=HTTPBasicAuth(wigle_username, wigle_password)).json()\n",
    "df = pd.DataFrame.from_dict(restaurant_results[\"results\"], orient='columns')\n",
    "df = df[df[\"qos\"] > 5]\n",
    "df[\"color\"] = np.where(df.encryption == \"unknown\",\"yellow\",\n",
    "                       np.where(df.encryption == \"none\",\"red\",\"blue\"))\n",
    "\n",
    "df[[\"netid\", \"qos\", \"ssid\",\"firsttime\", \"lasttime\", \"trilat\", \"trilong\"]].tail(10)"
   ]
  },
  {
   "cell_type": "markdown",
   "metadata": {},
   "source": [
    "# A Plain Map"
   ]
  },
  {
   "cell_type": "code",
   "execution_count": 18,
   "metadata": {},
   "outputs": [
    {
     "data": {
      "text/html": [
       "<div style=\"width:100%;\"><div style=\"position:relative;width:100%;height:0;padding-bottom:60%;\"><iframe src=\"data:text/html;charset=utf-8;base64,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\" style=\"position:absolute;width:100%;height:100%;left:0;top:0;border:none !important;\" allowfullscreen webkitallowfullscreen mozallowfullscreen></iframe></div></div>"
      ],
      "text/plain": [
       "<folium.folium.Map at 0x120747fd0>"
      ]
     },
     "execution_count": 18,
     "metadata": {},
     "output_type": "execute_result"
    }
   ],
   "source": [
    "# create interactive map\n",
    "map_osm = folium.Map(location=[payload[\"latrange1\"], payload[\"longrange2\"]], zoom_start=5)\n",
    "map_osm"
   ]
  },
  {
   "cell_type": "code",
   "execution_count": 19,
   "metadata": {},
   "outputs": [
    {
     "data": {
      "text/html": [
       "<div style=\"width:100%;\"><div style=\"position:relative;width:100%;height:0;padding-bottom:60%;\"><iframe src=\"data:text/html;charset=utf-8;base64,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\" style=\"position:absolute;width:100%;height:100%;left:0;top:0;border:none !important;\" allowfullscreen webkitallowfullscreen mozallowfullscreen></iframe></div></div>"
      ],
      "text/plain": [
       "<folium.folium.Map at 0x120747fd0>"
      ]
     },
     "execution_count": 19,
     "metadata": {},
     "output_type": "execute_result"
    }
   ],
   "source": [
    "folium.TileLayer('stamentoner').add_to(map_osm)\n",
    "map_osm"
   ]
  },
  {
   "cell_type": "code",
   "execution_count": 20,
   "metadata": {},
   "outputs": [
    {
     "name": "stdout",
     "output_type": "stream",
     "text": [
      "11\n"
     ]
    }
   ],
   "source": [
    "print(len(df))"
   ]
  },
  {
   "cell_type": "code",
   "execution_count": 12,
   "metadata": {},
   "outputs": [
    {
     "data": {
      "text/html": [
       "<div style=\"width:100%;\"><div style=\"position:relative;width:100%;height:0;padding-bottom:60%;\"><iframe src=\"data:text/html;charset=utf-8;base64,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\" style=\"position:absolute;width:100%;height:100%;left:0;top:0;border:none !important;\" allowfullscreen webkitallowfullscreen mozallowfullscreen></iframe></div></div>"
      ],
      "text/plain": [
       "<folium.folium.Map at 0x120771518>"
      ]
     },
     "execution_count": 12,
     "metadata": {},
     "output_type": "execute_result"
    }
   ],
   "source": [
    "#courtesy: https://stackoverflow.com/a/44475594/5086335\n",
    "df.apply(lambda row:folium.CircleMarker(location=[row[\"trilat\"], row[\"trilong\"]], \n",
    "                                              radius=5, color=row['color'],\n",
    "                                              popup = \"SSID: %s /n Encrpytion %s\" %(row[\"ssid\"],row[\"encryption\"]))\n",
    "                                             .add_to(map_osm), axis=1)\n",
    "\n",
    "map_osm\n"
   ]
  }
 ],
 "metadata": {
  "kernelspec": {
   "display_name": "Python 3",
   "language": "python",
   "name": "python3"
  },
  "language_info": {
   "codemirror_mode": {
    "name": "ipython",
    "version": 3
   },
   "file_extension": ".py",
   "mimetype": "text/x-python",
   "name": "python",
   "nbconvert_exporter": "python",
   "pygments_lexer": "ipython3",
   "version": "3.6.7"
  }
 },
 "nbformat": 4,
 "nbformat_minor": 2
}
